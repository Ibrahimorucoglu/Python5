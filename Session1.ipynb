{
 "cells": [
  {
   "cell_type": "code",
   "execution_count": 20,
   "metadata": {},
   "outputs": [
    {
     "data": {
      "text/plain": [
       "int"
      ]
     },
     "execution_count": 20,
     "metadata": {},
     "output_type": "execute_result"
    }
   ],
   "source": [
    "# integer ededler -> 2,4,8,4,-5,-2,-4\n",
    "type(-4)\n"
   ]
  },
  {
   "cell_type": "code",
   "execution_count": 21,
   "metadata": {},
   "outputs": [
    {
     "data": {
      "text/plain": [
       "float"
      ]
     },
     "execution_count": 21,
     "metadata": {},
     "output_type": "execute_result"
    }
   ],
   "source": [
    "# float ededler -> 3.6,-7.8\n",
    "type(5.5)"
   ]
  },
  {
   "cell_type": "code",
   "execution_count": 38,
   "metadata": {},
   "outputs": [
    {
     "name": "stdout",
     "output_type": "stream",
     "text": [
      "<class 'bool'>\n",
      "<class 'bool'>\n",
      "False\n",
      "True\n"
     ]
    }
   ],
   "source": [
    "# boolean\n",
    "\n",
    "a = True\n",
    "b = False\n",
    "\n",
    "\n",
    "print(type(a))\n",
    "print(type(b))\n",
    "\n",
    "print(3>4)\n",
    "print('QSS'=='QSS')"
   ]
  },
  {
   "cell_type": "code",
   "execution_count": 39,
   "metadata": {},
   "outputs": [
    {
     "data": {
      "text/plain": [
       "'Baki'"
      ]
     },
     "execution_count": 39,
     "metadata": {},
     "output_type": "execute_result"
    }
   ],
   "source": [
    "# String -> tek ve cut dirnaqlar string yazilir\n",
    "\n",
    "'Baki'\n",
    "seher = \"Baki\"\n",
    "seher"
   ]
  },
  {
   "cell_type": "code",
   "execution_count": 2,
   "metadata": {},
   "outputs": [
    {
     "data": {
      "text/plain": [
       "\"Now I'm going to university\""
      ]
     },
     "execution_count": 2,
     "metadata": {},
     "output_type": "execute_result"
    }
   ],
   "source": [
    "\"Now I'm going to university\""
   ]
  },
  {
   "cell_type": "code",
   "execution_count": 4,
   "metadata": {},
   "outputs": [
    {
     "name": "stdout",
     "output_type": "stream",
     "text": [
      "Baki gozel seherdir\n",
      "Baki Azerbaycanin paytaxtidir\n",
      "\n",
      "\n",
      "Baki Azerbaycanin paytaxti\tdir\n"
     ]
    }
   ],
   "source": [
    "# \\n - yeni setire kecmek ucun\n",
    "# \\t - arada bosluq qoymaq ucun\n",
    "\n",
    "print('Baki gozel seherdir')\n",
    "print('Baki Azerbaycanin paytaxtidir')\n",
    "print('\\n')\n",
    "print('Baki Azerbaycanin paytaxti\\tdir')"
   ]
  },
  {
   "cell_type": "markdown",
   "metadata": {},
   "source": [
    "## List"
   ]
  },
  {
   "cell_type": "code",
   "execution_count": 7,
   "metadata": {},
   "outputs": [
    {
     "name": "stdout",
     "output_type": "stream",
     "text": [
      "[1, 2, 3]\n",
      "['Salam', 12, True, 'Sag ol', 43.14]\n",
      "5\n",
      "\n",
      "\n",
      "43.14\n",
      "12\n",
      "[12, True, 'Sag ol', 43.14]\n",
      "['Salam', 12, True]\n",
      "[True, 'Sag ol']\n",
      "['Salam', 12, True, 'Sag ol', 43.14, 1, 'Baki']\n",
      "['Salam', 12, True, 'Sag ol', 43.14, 1, 'Baki', 'Sumqayit']\n",
      "Masinlar:\n",
      "['BMW', 'Mercedes', 'Hyundai', 'Land Rover', 'Porsche']\n",
      "['Salam', 12, True, 'Sag ol', 43.14, 1, 'Baki', 'Sumqayit', 'Salam', 12, True, 'Sag ol', 43.14, 1, 'Baki', 'Sumqayit']\n",
      "Cixarilan element:  Sumqayit\n",
      "['Salam', 12, True, 'Sag ol', 43.14, 1, 'Baki', 'Sumqayit', 'Salam', 12, True, 'Sag ol', 43.14, 1, 'Baki']\n",
      "['Salam', 12, 'Sag ol', 43.14, 1, 'Baki', 'Sumqayit', 'Salam', 12, True, 'Sag ol', 43.14, 1, 'Baki']\n",
      "['Salam', 12, 43.14, 1, 'Baki', 'Sumqayit', 'Salam', 12, True, 'Sag ol', 43.14, 1, 'Baki']\n",
      "[12, 43.14, 1, 'Baki', 'Sumqayit', 'Salam', 12, True, 'Sag ol', 43.14, 1, 'Baki']\n",
      "['Baki', 1, 43.14, 'Sag ol', True, 12, 'Salam', 'Sumqayit', 'Baki', 1, 43.14, 12]\n",
      "[1, 3, 6, 9, 12, 45]\n",
      "[45, 12, 9, 6, 3, 1]\n",
      "['Eli', 'Ibrahim', 'Ilkin', 'Nihad']\n",
      "['Nihad', 'Ilkin', 'Ibrahim', 'Eli']\n",
      "\n",
      "\n"
     ]
    }
   ],
   "source": [
    "# listler elementler coxluqudur, ustunluyu odur ki, elementler uzerinde deyisiklikler etmek olur\n",
    "#  Kvadrat moterizelerle yaranir\n",
    "\n",
    "list1 = [1,2,3]\n",
    "print(list1)\n",
    "\n",
    "# list ferqli tip elementleri ozunde birlesdire bilir\n",
    "list2 = ['Salam',12,True,'Sag ol',43.14]\n",
    "print(list2)\n",
    "\n",
    "# nece element oludugunu tapmaq\n",
    "print(len(list2))\n",
    "print('\\n')\n",
    "\n",
    "#list indexing\n",
    "print(list2[-1])\n",
    "print(list2[1])\n",
    "\n",
    "#list slicing\n",
    "print(list2[1:])\n",
    "print(list2[:3])\n",
    "print(list2[2:4])\n",
    "\n",
    "#list-e yeni element elave etmek usulu 1\n",
    "list2 = list2 + [1] + ['Baki']\n",
    "print(list2)\n",
    "\n",
    "#list-e yeni element elave etmek usulu 2\n",
    "list2.append('Sumqayit')\n",
    "print(list2)\n",
    "\n",
    "#istediyimiz index-e elave etmek ucun:\n",
    "masin = ['BMW','Mercedes','Land Rover','Porsche']\n",
    "print('Masinlar:')\n",
    "masin.insert(2,'Hyundai')\n",
    "print(masin)\n",
    "\n",
    "#list-i 2 defe tekrarlamaq\n",
    "list2 = list2 * 2\n",
    "print(list2)\n",
    "\n",
    "#istediyimiz index-li element-i listden silmek: pop() funksiyasi default olaraq son index-deki elementi silir\n",
    "cixarilan_element = list2.pop()\n",
    "print(\"Cixarilan element: \",cixarilan_element)\n",
    "print(list2)\n",
    "\n",
    "#istediyimiz index-den silme\n",
    "list2.pop(2)\n",
    "print(list2)\n",
    "\n",
    "#diger yolu\n",
    "del list2[2]\n",
    "print(list2)\n",
    "\n",
    "#diger yolu\n",
    "list2.remove('Salam')\n",
    "print(list2)\n",
    "\n",
    "#list-in eksini cixardir\n",
    "list2.reverse()\n",
    "print(list2)\n",
    "\n",
    "#elementlerin siralamasi -> butun elementlerin eyni tipde olmasi lazim\n",
    "#list2.sort()\n",
    "#print(list2)\n",
    "\n",
    "#kicikden boyuye -> asc\n",
    "list3 = [3,9,6,1,45,12]\n",
    "list3.sort()\n",
    "print(list3)\n",
    "\n",
    "#boyuyden kiciye -> desc\n",
    "list3.sort(reverse = True)\n",
    "print(list3)\n",
    "\n",
    "#char-lari sort etmek:\n",
    "list4 = ['Ibrahim','Ilkin','Eli','Nihad']\n",
    "list4.sort(key=str.lower)\n",
    "print(list4)\n",
    "\n",
    "#char-lari desc sort etmek:\n",
    "list4.sort(key=str.lower, reverse=True)\n",
    "print(list4)\n",
    "print('\\n')"
   ]
  },
  {
   "cell_type": "markdown",
   "metadata": {},
   "source": [
    "## Tuple"
   ]
  },
  {
   "cell_type": "code",
   "execution_count": 41,
   "metadata": {},
   "outputs": [
    {
     "name": "stdout",
     "output_type": "stream",
     "text": [
      "(1, 3, 5)\n",
      "3\n",
      "('Baki', 32, True, 44.3, 44.3)\n",
      "True\n",
      "44.3\n",
      "0\n",
      "2\n"
     ]
    }
   ],
   "source": [
    "#List-le eynidir, ferqi odur ki, immutable dir, elementler uzerinde deyisiklik etmek olmur\n",
    "#() moterize ile yaranir\n",
    "\n",
    "tuple1 = (1,3,5)\n",
    "print(tuple1)\n",
    "\n",
    "#element sayi\n",
    "print(len(tuple1))\n",
    "\n",
    "#ferqli obyekt tipleri ola biler\n",
    "tuple2 = ('Baki',32, True, 44.3,44.3)\n",
    "print(tuple2)\n",
    "\n",
    "#indexing\n",
    "print(tuple2[2])\n",
    "print(tuple2[-1])\n",
    "\n",
    "#index() yazilan elementin index-ni gosterir\n",
    "print(tuple2.index('Baki'))\n",
    "\n",
    "#count() yazilan elementin nece defe tekrarlandigini bildirir\n",
    "print(tuple2.count(44.3))\n",
    "\n",
    "#deyismezliyinin isbati - run elesek islemeyecek\n",
    "\n",
    "#tuple2[3] = '22.1'\n",
    "#tuple2.append(11)"
   ]
  },
  {
   "cell_type": "markdown",
   "metadata": {},
   "source": [
    "## Dictionaries"
   ]
  },
  {
   "cell_type": "code",
   "execution_count": 42,
   "metadata": {},
   "outputs": [
    {
     "name": "stdout",
     "output_type": "stream",
     "text": [
      "value1\n",
      "SUMGAIT UNIVERSITY\n",
      "{'ad': ['Ibrahim', 'Nihad', 'Natiq'], 'yashlar': [22, 19, 22], 'universitet': ['BMU', 'UNEC', 'Sumgait University']}\n",
      "{'Ad': 'Ibrahim', 'Soyad': 'Alizada'}\n",
      "dict_keys(['Ad', 'Soyad'])\n",
      "dict_values(['Ibrahim', 'Alizada'])\n",
      "dict_items([('Ad', 'Ibrahim'), ('Soyad', 'Alizada')])\n"
     ]
    }
   ],
   "source": [
    "# key and value-dan ibaretdir\n",
    "# {} moterizelerle yaranir\n",
    "dict1 = {'key1':'value1', 'key2':'value2'}\n",
    "print(dict1['key1'])\n",
    "\n",
    "dict2 = {'ad':['Ibrahim','Nihad','Natiq'], 'yashlar':[20,19,22], 'universitet':['BMU','UNEC','Sumgait University']}\n",
    "print(dict2['universitet'][2].upper())\n",
    "\n",
    "dict2['yashlar'][0] +=2\n",
    "print(dict2)\n",
    "\n",
    "# basga yolla yaranmasi\n",
    "dict3 = {}\n",
    "\n",
    "dict3['Ad'] = 'Ibrahim'\n",
    "dict3['Soyad'] = 'Alizada'\n",
    "print(dict3)\n",
    "\n",
    "#key-leri cixarir\n",
    "print(dict3.keys())\n",
    "\n",
    "#value-lari cixarir\n",
    "print(dict3.values())\n",
    "\n",
    "#2-sini biryerde uygun sekilde cixarmaq\n",
    "print(dict3.items())"
   ]
  },
  {
   "cell_type": "markdown",
   "metadata": {},
   "source": [
    "## Iterations"
   ]
  },
  {
   "cell_type": "code",
   "execution_count": 46,
   "metadata": {},
   "outputs": [
    {
     "name": "stdout",
     "output_type": "stream",
     "text": [
      "9 boyukdur\n"
     ]
    }
   ],
   "source": [
    "# if\n",
    "\n",
    "a=8\n",
    "b=9\n",
    "\n",
    "if a>b:\n",
    "    print(a,'boyukdur')\n",
    "else:\n",
    "    print(b,'boyukdur')"
   ]
  },
  {
   "cell_type": "code",
   "execution_count": 14,
   "metadata": {},
   "outputs": [
    {
     "name": "stdout",
     "output_type": "stream",
     "text": [
      "Azerbaijan\n"
     ]
    }
   ],
   "source": [
    "seher = 'Baki'\n",
    "\n",
    "if seher=='Baki':\n",
    "    print('Azerbaijan')\n",
    "elif seher=='Istanbul':\n",
    "    print('Turkey')\n",
    "else:\n",
    "    print('Ayri olke')"
   ]
  },
  {
   "cell_type": "code",
   "execution_count": 47,
   "metadata": {},
   "outputs": [
    {
     "name": "stdout",
     "output_type": "stream",
     "text": [
      "1\n",
      "2\n",
      "3\n",
      "6\n",
      "8\n",
      "9\n",
      "\n",
      "\n",
      "1 tekdir\n",
      "2 cutdur\n",
      "3 tekdir\n",
      "6 cutdur\n",
      "8 cutdur\n",
      "9 tekdir\n"
     ]
    }
   ],
   "source": [
    "# for loop\n",
    "\n",
    "list1 = [1,2,3,6,8,9]\n",
    "\n",
    "for num in list1:\n",
    "    print(num)\n",
    "\n",
    "print('\\n')\n",
    "\n",
    "for i in list1:\n",
    "    if i%2 == 0:\n",
    "        print(str(i)+ ' cutdur')\n",
    "    else:\n",
    "        print(str(i) + ' tekdir')"
   ]
  },
  {
   "cell_type": "code",
   "execution_count": 48,
   "metadata": {
    "scrolled": true
   },
   "outputs": [
    {
     "name": "stdout",
     "output_type": "stream",
     "text": [
      "X-in hazirki qiymeti :  0\n",
      "X-in hazirki qiymeti :  1\n",
      "X-in hazirki qiymeti :  2\n",
      "X-in hazirki qiymeti :  3\n",
      "X-in hazirki qiymeti :  4\n",
      "X-in hazirki qiymeti :  5\n",
      "X-in hazirki qiymeti :  6\n",
      "X-in hazirki qiymeti :  7\n",
      "X-in hazirki qiymeti :  8\n",
      "X-in hazirki qiymeti :  9\n",
      "X-in hazirki qiymeti :  10\n"
     ]
    }
   ],
   "source": [
    "# while\n",
    "\n",
    "x = 0\n",
    "\n",
    "while x<=10:\n",
    "    print('X-in hazirki qiymeti : ' ,x)\n",
    "    x =  x + 1"
   ]
  },
  {
   "cell_type": "code",
   "execution_count": 22,
   "metadata": {},
   "outputs": [],
   "source": [
    "import statistics as st"
   ]
  },
  {
   "cell_type": "code",
   "execution_count": 23,
   "metadata": {},
   "outputs": [],
   "source": [
    "data = [39,39,29,43,52,45,44,31,44,35]"
   ]
  },
  {
   "cell_type": "code",
   "execution_count": 24,
   "metadata": {},
   "outputs": [],
   "source": [
    "mean=st.mean(data) "
   ]
  },
  {
   "cell_type": "code",
   "execution_count": 25,
   "metadata": {},
   "outputs": [
    {
     "data": {
      "text/plain": [
       "40.1"
      ]
     },
     "execution_count": 25,
     "metadata": {},
     "output_type": "execute_result"
    }
   ],
   "source": [
    "mean"
   ]
  },
  {
   "cell_type": "code",
   "execution_count": 26,
   "metadata": {},
   "outputs": [],
   "source": [
    "data.sort()"
   ]
  },
  {
   "cell_type": "code",
   "execution_count": 27,
   "metadata": {},
   "outputs": [
    {
     "data": {
      "text/plain": [
       "[29, 31, 35, 39, 39, 43, 44, 44, 45, 52]"
      ]
     },
     "execution_count": 27,
     "metadata": {},
     "output_type": "execute_result"
    }
   ],
   "source": [
    "data"
   ]
  },
  {
   "cell_type": "code",
   "execution_count": 30,
   "metadata": {},
   "outputs": [],
   "source": [
    "xyz = st.median(data)"
   ]
  },
  {
   "cell_type": "code",
   "execution_count": 31,
   "metadata": {},
   "outputs": [
    {
     "data": {
      "text/plain": [
       "41.0"
      ]
     },
     "execution_count": 31,
     "metadata": {},
     "output_type": "execute_result"
    }
   ],
   "source": [
    "xyz"
   ]
  },
  {
   "cell_type": "code",
   "execution_count": 32,
   "metadata": {},
   "outputs": [],
   "source": [
    "data = [39,39,39,29,43,52,40,44,31,44,35]"
   ]
  },
  {
   "cell_type": "code",
   "execution_count": 33,
   "metadata": {},
   "outputs": [],
   "source": [
    "mode = st.mode(data)"
   ]
  },
  {
   "cell_type": "code",
   "execution_count": 34,
   "metadata": {},
   "outputs": [
    {
     "data": {
      "text/plain": [
       "39"
      ]
     },
     "execution_count": 34,
     "metadata": {},
     "output_type": "execute_result"
    }
   ],
   "source": [
    "mode"
   ]
  },
  {
   "cell_type": "code",
   "execution_count": 18,
   "metadata": {},
   "outputs": [],
   "source": [
    "modes = []\n",
    "for a in data:\n",
    "    if data.count(a)>1:\n",
    "        modes.append(a) "
   ]
  },
  {
   "cell_type": "code",
   "execution_count": 19,
   "metadata": {},
   "outputs": [
    {
     "data": {
      "text/plain": [
       "[39, 39, 39, 44, 44]"
      ]
     },
     "execution_count": 19,
     "metadata": {},
     "output_type": "execute_result"
    }
   ],
   "source": [
    "modes"
   ]
  },
  {
   "cell_type": "code",
   "execution_count": 20,
   "metadata": {},
   "outputs": [],
   "source": [
    "import numpy as np\n",
    "import pandas as pd"
   ]
  },
  {
   "cell_type": "code",
   "execution_count": 21,
   "metadata": {},
   "outputs": [],
   "source": [
    "p = np.percentile(data, 100)"
   ]
  },
  {
   "cell_type": "code",
   "execution_count": 22,
   "metadata": {},
   "outputs": [
    {
     "data": {
      "text/plain": [
       "52.0"
      ]
     },
     "execution_count": 22,
     "metadata": {},
     "output_type": "execute_result"
    }
   ],
   "source": [
    "p"
   ]
  },
  {
   "cell_type": "code",
   "execution_count": 23,
   "metadata": {},
   "outputs": [
    {
     "data": {
      "text/plain": [
       "39.0"
      ]
     },
     "execution_count": 23,
     "metadata": {},
     "output_type": "execute_result"
    }
   ],
   "source": [
    "np.percentile(data, 50)"
   ]
  },
  {
   "cell_type": "code",
   "execution_count": 24,
   "metadata": {},
   "outputs": [],
   "source": [
    "df = pd.DataFrame(data)"
   ]
  },
  {
   "cell_type": "code",
   "execution_count": 25,
   "metadata": {},
   "outputs": [
    {
     "data": {
      "text/html": [
       "<div>\n",
       "<style scoped>\n",
       "    .dataframe tbody tr th:only-of-type {\n",
       "        vertical-align: middle;\n",
       "    }\n",
       "\n",
       "    .dataframe tbody tr th {\n",
       "        vertical-align: top;\n",
       "    }\n",
       "\n",
       "    .dataframe thead th {\n",
       "        text-align: right;\n",
       "    }\n",
       "</style>\n",
       "<table border=\"1\" class=\"dataframe\">\n",
       "  <thead>\n",
       "    <tr style=\"text-align: right;\">\n",
       "      <th></th>\n",
       "      <th>0</th>\n",
       "    </tr>\n",
       "  </thead>\n",
       "  <tbody>\n",
       "    <tr>\n",
       "      <th>0</th>\n",
       "      <td>39</td>\n",
       "    </tr>\n",
       "    <tr>\n",
       "      <th>1</th>\n",
       "      <td>39</td>\n",
       "    </tr>\n",
       "    <tr>\n",
       "      <th>2</th>\n",
       "      <td>39</td>\n",
       "    </tr>\n",
       "    <tr>\n",
       "      <th>3</th>\n",
       "      <td>29</td>\n",
       "    </tr>\n",
       "    <tr>\n",
       "      <th>4</th>\n",
       "      <td>43</td>\n",
       "    </tr>\n",
       "    <tr>\n",
       "      <th>5</th>\n",
       "      <td>52</td>\n",
       "    </tr>\n",
       "    <tr>\n",
       "      <th>6</th>\n",
       "      <td>40</td>\n",
       "    </tr>\n",
       "    <tr>\n",
       "      <th>7</th>\n",
       "      <td>44</td>\n",
       "    </tr>\n",
       "    <tr>\n",
       "      <th>8</th>\n",
       "      <td>31</td>\n",
       "    </tr>\n",
       "    <tr>\n",
       "      <th>9</th>\n",
       "      <td>44</td>\n",
       "    </tr>\n",
       "    <tr>\n",
       "      <th>10</th>\n",
       "      <td>35</td>\n",
       "    </tr>\n",
       "  </tbody>\n",
       "</table>\n",
       "</div>"
      ],
      "text/plain": [
       "     0\n",
       "0   39\n",
       "1   39\n",
       "2   39\n",
       "3   29\n",
       "4   43\n",
       "5   52\n",
       "6   40\n",
       "7   44\n",
       "8   31\n",
       "9   44\n",
       "10  35"
      ]
     },
     "execution_count": 25,
     "metadata": {},
     "output_type": "execute_result"
    }
   ],
   "source": [
    "df"
   ]
  },
  {
   "cell_type": "code",
   "execution_count": 26,
   "metadata": {},
   "outputs": [
    {
     "data": {
      "text/html": [
       "<div>\n",
       "<style scoped>\n",
       "    .dataframe tbody tr th:only-of-type {\n",
       "        vertical-align: middle;\n",
       "    }\n",
       "\n",
       "    .dataframe tbody tr th {\n",
       "        vertical-align: top;\n",
       "    }\n",
       "\n",
       "    .dataframe thead th {\n",
       "        text-align: right;\n",
       "    }\n",
       "</style>\n",
       "<table border=\"1\" class=\"dataframe\">\n",
       "  <thead>\n",
       "    <tr style=\"text-align: right;\">\n",
       "      <th></th>\n",
       "      <th>0</th>\n",
       "    </tr>\n",
       "  </thead>\n",
       "  <tbody>\n",
       "    <tr>\n",
       "      <th>count</th>\n",
       "      <td>11.000000</td>\n",
       "    </tr>\n",
       "    <tr>\n",
       "      <th>mean</th>\n",
       "      <td>39.545455</td>\n",
       "    </tr>\n",
       "    <tr>\n",
       "      <th>std</th>\n",
       "      <td>6.424385</td>\n",
       "    </tr>\n",
       "    <tr>\n",
       "      <th>min</th>\n",
       "      <td>29.000000</td>\n",
       "    </tr>\n",
       "    <tr>\n",
       "      <th>25%</th>\n",
       "      <td>37.000000</td>\n",
       "    </tr>\n",
       "    <tr>\n",
       "      <th>50%</th>\n",
       "      <td>39.000000</td>\n",
       "    </tr>\n",
       "    <tr>\n",
       "      <th>75%</th>\n",
       "      <td>43.500000</td>\n",
       "    </tr>\n",
       "    <tr>\n",
       "      <th>max</th>\n",
       "      <td>52.000000</td>\n",
       "    </tr>\n",
       "  </tbody>\n",
       "</table>\n",
       "</div>"
      ],
      "text/plain": [
       "               0\n",
       "count  11.000000\n",
       "mean   39.545455\n",
       "std     6.424385\n",
       "min    29.000000\n",
       "25%    37.000000\n",
       "50%    39.000000\n",
       "75%    43.500000\n",
       "max    52.000000"
      ]
     },
     "execution_count": 26,
     "metadata": {},
     "output_type": "execute_result"
    }
   ],
   "source": [
    "df.describe()"
   ]
  },
  {
   "cell_type": "code",
   "execution_count": 27,
   "metadata": {},
   "outputs": [],
   "source": [
    "range = max(data)-min(data)"
   ]
  },
  {
   "cell_type": "code",
   "execution_count": 28,
   "metadata": {},
   "outputs": [
    {
     "data": {
      "text/plain": [
       "23"
      ]
     },
     "execution_count": 28,
     "metadata": {},
     "output_type": "execute_result"
    }
   ],
   "source": [
    "range"
   ]
  },
  {
   "cell_type": "code",
   "execution_count": 29,
   "metadata": {},
   "outputs": [],
   "source": [
    "variance = st.variance(data)"
   ]
  },
  {
   "cell_type": "code",
   "execution_count": 30,
   "metadata": {},
   "outputs": [
    {
     "data": {
      "text/plain": [
       "41.27272727272727"
      ]
     },
     "execution_count": 30,
     "metadata": {},
     "output_type": "execute_result"
    }
   ],
   "source": [
    "variance"
   ]
  },
  {
   "cell_type": "code",
   "execution_count": 31,
   "metadata": {},
   "outputs": [],
   "source": [
    "stdev = st.stdev(data)"
   ]
  },
  {
   "cell_type": "code",
   "execution_count": 32,
   "metadata": {},
   "outputs": [
    {
     "data": {
      "text/plain": [
       "6.424385361474456"
      ]
     },
     "execution_count": 32,
     "metadata": {},
     "output_type": "execute_result"
    }
   ],
   "source": [
    "stdev"
   ]
  },
  {
   "cell_type": "code",
   "execution_count": 33,
   "metadata": {},
   "outputs": [],
   "source": [
    "from scipy import stats\n",
    "zscore = stats.zscore(data)"
   ]
  },
  {
   "cell_type": "code",
   "execution_count": 34,
   "metadata": {},
   "outputs": [],
   "source": [
    "scores = pd.DataFrame(zscore)"
   ]
  },
  {
   "cell_type": "code",
   "execution_count": 35,
   "metadata": {},
   "outputs": [
    {
     "data": {
      "text/html": [
       "<div>\n",
       "<style scoped>\n",
       "    .dataframe tbody tr th:only-of-type {\n",
       "        vertical-align: middle;\n",
       "    }\n",
       "\n",
       "    .dataframe tbody tr th {\n",
       "        vertical-align: top;\n",
       "    }\n",
       "\n",
       "    .dataframe thead th {\n",
       "        text-align: right;\n",
       "    }\n",
       "</style>\n",
       "<table border=\"1\" class=\"dataframe\">\n",
       "  <thead>\n",
       "    <tr style=\"text-align: right;\">\n",
       "      <th></th>\n",
       "      <th>0</th>\n",
       "    </tr>\n",
       "  </thead>\n",
       "  <tbody>\n",
       "    <tr>\n",
       "      <th>0</th>\n",
       "      <td>-0.089048</td>\n",
       "    </tr>\n",
       "    <tr>\n",
       "      <th>1</th>\n",
       "      <td>-0.089048</td>\n",
       "    </tr>\n",
       "    <tr>\n",
       "      <th>2</th>\n",
       "      <td>-0.089048</td>\n",
       "    </tr>\n",
       "    <tr>\n",
       "      <th>3</th>\n",
       "      <td>-1.721591</td>\n",
       "    </tr>\n",
       "    <tr>\n",
       "      <th>4</th>\n",
       "      <td>0.563970</td>\n",
       "    </tr>\n",
       "    <tr>\n",
       "      <th>5</th>\n",
       "      <td>2.033259</td>\n",
       "    </tr>\n",
       "    <tr>\n",
       "      <th>6</th>\n",
       "      <td>0.074207</td>\n",
       "    </tr>\n",
       "    <tr>\n",
       "      <th>7</th>\n",
       "      <td>0.727224</td>\n",
       "    </tr>\n",
       "    <tr>\n",
       "      <th>8</th>\n",
       "      <td>-1.395083</td>\n",
       "    </tr>\n",
       "    <tr>\n",
       "      <th>9</th>\n",
       "      <td>0.727224</td>\n",
       "    </tr>\n",
       "    <tr>\n",
       "      <th>10</th>\n",
       "      <td>-0.742065</td>\n",
       "    </tr>\n",
       "  </tbody>\n",
       "</table>\n",
       "</div>"
      ],
      "text/plain": [
       "           0\n",
       "0  -0.089048\n",
       "1  -0.089048\n",
       "2  -0.089048\n",
       "3  -1.721591\n",
       "4   0.563970\n",
       "5   2.033259\n",
       "6   0.074207\n",
       "7   0.727224\n",
       "8  -1.395083\n",
       "9   0.727224\n",
       "10 -0.742065"
      ]
     },
     "execution_count": 35,
     "metadata": {},
     "output_type": "execute_result"
    }
   ],
   "source": [
    "scores"
   ]
  }
 ],
 "metadata": {
  "kernelspec": {
   "display_name": "Python 3",
   "language": "python",
   "name": "python3"
  },
  "language_info": {
   "codemirror_mode": {
    "name": "ipython",
    "version": 3
   },
   "file_extension": ".py",
   "mimetype": "text/x-python",
   "name": "python",
   "nbconvert_exporter": "python",
   "pygments_lexer": "ipython3",
   "version": "3.7.6"
  }
 },
 "nbformat": 4,
 "nbformat_minor": 2
}
